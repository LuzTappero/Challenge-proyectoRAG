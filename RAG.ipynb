{
 "cells": [
  {
   "cell_type": "code",
   "execution_count": 1,
   "id": "624eea49-7a7e-405b-b55e-9b4c35954dd8",
   "metadata": {},
   "outputs": [],
   "source": [
    "# Importación de librerias y uso de Api key de Cohere\n",
    "import os\n",
    "from dotenv import load_dotenv\n",
    "import cohere\n",
    "\n",
    "load_dotenv()  # Load .env file\n",
    "\n",
    "COHERE_API_KEY = os.getenv(\"API_KEY\")\n",
    "# print(COHERE_API_KEY)  # Verify the key\n",
    "\n",
    "co = cohere.ClientV2(COHERE_API_KEY)"
   ]
  },
  {
   "cell_type": "code",
   "execution_count": 2,
   "id": "4cada78d-c399-4ddd-9905-1b22039e07fb",
   "metadata": {},
   "outputs": [
    {
     "name": "stdout",
     "output_type": "stream",
     "text": [
      "Texto combinado del PDF:\n",
      "Sol y Luna \n",
      "Sol y Luna eran dos pequeños gatitos que habían nacido en la misma camada, pero sus \n",
      "personalidades no podían ser más diferentes. Sol, de un brillante color anaranjado, era \n",
      "aventurero y c\n",
      "\n",
      "Número de páginas: 3\n"
     ]
    }
   ],
   "source": [
    "from pypdf import PdfReader\n",
    "## Extracción de texto de archivo PDF.\n",
    "\n",
    "# Función para extraer el texto de un archivo pdf\n",
    "def extract_text_from_pdf(file_path):\n",
    "    \"\"\"\n",
    "        1-Extrae el texto de las páginas del archivo.pdf\n",
    "        2-Parámetros\n",
    "            - file_path(String): Ruta del archivo PDF\n",
    "        3-Retorna\n",
    "            -combined_text(String) : texto de todas las páginas\n",
    "            -page_texts(list) : Lista con el texto de cada una de las páginas.\n",
    "    \"\"\"\n",
    "    try:\n",
    "        # Cargar el documento pdf con el nombre de su ruta\n",
    "        reader = PdfReader(file_path)\n",
    "        \n",
    "        # Extraer texto de todas las páginas\n",
    "        page_texts = [page.extract_text() for page in reader.pages]\n",
    "\n",
    "        # Combinar todas las páginas en un solo texto\n",
    "        combined_text = \"\\n\".join(page_texts)\n",
    "\n",
    "        return combined_text, page_texts\n",
    "        \n",
    "    except FileNotFoundError:\n",
    "        # Manejo del error en caso que  no exista el archivo\n",
    "        print(f\"Error: el archivo solicitado '{file_path}' no fue encontrado.\")\n",
    "        return None, None\n",
    "    except Exception as e:\n",
    "        # Manejo de cualquier otro tipo de error\n",
    "        print(f\"Error al leer el archivo PDF: {e}\")\n",
    "        return None, None\n",
    "\n",
    "# Ejemplo de uso de la funcion -extract_text_from_pdf- para probar la extracción de texto\n",
    "pdf_path = 'historias.pdf' #Ruta del archivo\n",
    "combined_text, page_texts = extract_text_from_pdf(pdf_path)\n",
    "\n",
    "if combined_text:\n",
    "    print(\"Texto combinado del PDF:\")\n",
    "    # Mostrar solo una parte del texto combinado para evitar sobrecarga en la salida\n",
    "    print(combined_text[:200])  #Ej: Muestra los primeros 200 caracteres\n",
    "    print(\"\\nNúmero de páginas:\", len(page_texts)) #Número total de páginas\n",
    "else:\n",
    "    print(\"No fue posible extraer el texto del archivo PDF\")"
   ]
  },
  {
   "cell_type": "code",
   "execution_count": 3,
   "id": "d1d065c5-0ef8-4ea4-80c3-3f6f77626306",
   "metadata": {
    "collapsed": true,
    "jupyter": {
     "outputs_hidden": true
    },
    "scrolled": true
   },
   "outputs": [
    {
     "name": "stdout",
     "output_type": "stream",
     "text": [
      "Historia dividida en 17 chunks:\n",
      "Chunk 1 (356 caracteres):\n",
      "Sol y Luna \n",
      "Sol y Luna eran dos pequeños gatitos que habían nacido en la misma camada, pero sus \n",
      "personalidades no podían ser más diferentes. Sol, de un brillante color anaranjado, era \n",
      "aventurero y curioso; siempre buscando nuevas experiencias y explorando cada rincón de \n",
      "su hogar. Luna, en cambio, era de un suave pelaje gris y tenía un temperamento más\n",
      "\n",
      "Chunk 2 (310 caracteres):\n",
      "sereno y observador. Pasaba horas contemplando el mundo desde la ventana, como si en \n",
      "cada sombra descubriera un misterio oculto. \n",
      "Una tarde, mientras Sol correteaba por el jardín persiguiendo mariposas, Luna permanecía \n",
      "en el alféizar, vigilando desde lejos. De repente, una fuerte tormenta comenzó a formarse\n",
      "\n",
      "Chunk 3 (318 caracteres):\n",
      "en el horizonte. El viento sacudía las ramas de los árboles, y las gotas de lluvia empezaron \n",
      "a caer pesadamente. Sol, atrapado por su espíritu inquieto, no se dio cuenta de lo rápido \n",
      "que se acercaba la tormenta. Luna, desde su posición, sintió una inquietud que la hizo \n",
      "saltar del alféizar y correr hacia la puerta.\n",
      "\n"
     ]
    }
   ],
   "source": [
    "from langchain.text_splitter import RecursiveCharacterTextSplitter\n",
    "\n",
    "# Primer paso: Configuración de la división del texto en chunks utilizando\n",
    "# RecursiveCharacterTextSplitter de Langchain\n",
    "\n",
    "text_splitter= RecursiveCharacterTextSplitter(\n",
    "    chunk_size= 400, #Define el número de máximo de caracteres por chunk,Con 400 caracteres, mantiene oraciones completas, coherentes, y para   #ser manejada por algoritmos de busqueda como en este caso(generación de vector) para almacenar en ChromaDB.\n",
    "    chunk_overlap= 50 #Indica la Superposición de 50 caracteres entre chunks, este valor garantiza que las transiciones entre ellos sean suaves, asegurando que no se pierda información entre cada solapamiento.\n",
    ")\n",
    "\n",
    "# Paso 2: Texto para dividir en chunks, utilizo el texto combinado obtenido de la extracción del pdf\n",
    "historia= combined_text\n",
    "\n",
    "# Paso 3: Crear los chunks(con previa validación) a partir del texto con la configuración ya definida.\n",
    "if not historia.strip():\n",
    "    print(\"El texto está vacío o no contiene contenido relevante para dividir.\")\n",
    "else:\n",
    "    chunks = text_splitter.split_text(historia)\n",
    "\n",
    "# Paso 4: Obtener los resultados impresos en pantalla\n",
    "\n",
    "print(f\"Historia dividida en {len(chunks)} chunks:\")\n",
    "for i, chunk in enumerate(chunks[:3]): #Ej, mostrar una cantidad limitada para no sobrecargar la salida\n",
    "    print(f\"Chunk {i + 1} ({len(chunk)} caracteres):\\n{chunk}\\n\")\n"
   ]
  },
  {
   "cell_type": "code",
   "execution_count": 4,
   "id": "c68f128b-c4d0-435e-9a65-955222e123cb",
   "metadata": {},
   "outputs": [
    {
     "name": "stdout",
     "output_type": "stream",
     "text": [
      "Generados 17 embeddings para los 17 chunks.\n"
     ]
    }
   ],
   "source": [
    "from langchain_chroma import Chroma\n",
    "from langchain.embeddings import CohereEmbeddings\n",
    "\n",
    "# Paso 1: Generación de embeddings para los chunks\n",
    "\n",
    "# Utilicé el modelo de embed-multilingual-v3.0 para crear las representaciones vectoriales\n",
    "# de cada chunk de texto. Estos embeddings se utilizaran para futuras búsquedas.\n",
    "\n",
    "response = co.embed(\n",
    "    texts= chunks, #Lista de chucnks para procesar\n",
    "    model= \"embed-multilingual-v3.0\", # Modelo de embeddings multilingüe\n",
    "    input_type=\"search_document\",\n",
    "    embedding_types=[\"float\"],\n",
    ")\n",
    "# Paso 2: Obtención de los embeddings generados, se extraen como vectores flotantes.\n",
    "embeddings= response.embeddings.float_\n",
    "\n",
    "# Verificar la generación de los embeddings\n",
    "if embeddings and len(embeddings) == len(chunks):\n",
    "     print(f\"Generados {len(embeddings)} embeddings para los {len(chunks)} chunks.\")\n",
    "else:\n",
    "      print(\"Error: No fue posible generar los embeddings o el número de embeddings no coincide con los chunks.\")\n",
    "\n"
   ]
  },
  {
   "cell_type": "code",
   "execution_count": 5,
   "id": "463c1324-34d3-4d4b-b037-5f899db03b1e",
   "metadata": {},
   "outputs": [
    {
     "name": "stdout",
     "output_type": "stream",
     "text": [
      "Embeddings y chunks guardados exitosamente.\n"
     ]
    }
   ],
   "source": [
    "# Importación de libreria para manejar archivos JSON\n",
    "import json \n",
    "\n",
    "# Paso 1: Asociar cada chunk con su embedding correspondiente\n",
    "# Lista de diccionarios donde se encuentra el texto del chunk y su vector correspondiente.\n",
    "data = [{\"id\": i + 1, \"chunk\": chunk, \"embedding\": embedding} for i, (chunk, embedding) in enumerate(zip(chunks, embeddings))]\n",
    "\n",
    "# Paso 2: Extraer por separado de cada los chunks y embeddings para uso posterior\n",
    "documents = [item[\"chunk\"] for item in data]  # Extraer los textos (chunks)\n",
    "embeddings = [item[\"embedding\"] for item in data]  # Extraer los embeddings\n",
    "\n",
    "# Paso 3: Guardar los datos en un archivo JSON para tener un acceso facil y reutilizable,\n",
    "# previamente validando que la cantidad de chunks y embeddings sean iguales.\n",
    "if len(chunks) != len(embeddings):\n",
    "    print(\"Error: El número de chunks no coincide con el número de embeddings.\")\n",
    "else:\n",
    "   try:\n",
    "       with open(\"embeddings.json\", \"w\") as f:\n",
    "           json.dump(data, f)\n",
    "           print(\"Embeddings y chunks guardados exitosamente.\")\n",
    "   except Exception as e:\n",
    "        print(f\"Error al guardar los embeddings: {e}\")"
   ]
  },
  {
   "cell_type": "code",
   "execution_count": 6,
   "id": "777f6168-3e69-4521-8cc4-4d30b7865179",
   "metadata": {
    "scrolled": true
   },
   "outputs": [
    {
     "name": "stdout",
     "output_type": "stream",
     "text": [
      "Documentos y embeddings añadidos correctamente a la colección 'text_chunks'.\n",
      "Estado de la colección 'text_chunks': Collection(name=text_chunks)\n"
     ]
    }
   ],
   "source": [
    "# Importación de Chromadb.\n",
    "import chromadb\n",
    "# Creación de un cliente para realizar la conexión a la base de datos vectorial\n",
    "chroma_client = chromadb.Client()\n",
    "\n",
    "# Crear o recuperar si ya existe una colección en ChromaDB (con el método get_or_create_collection)\n",
    "collection_name = \"text_chunks\"\n",
    "collection = chroma_client.get_or_create_collection(collection_name)\n",
    "\n",
    "# Verificar la correspondencia entre documentos y embeddings\n",
    "if len(documents) == len(embeddings):\n",
    "\n",
    "    # Generar IDs dinámicamente segun la cantidad de chunks\n",
    "    ids = [f\"id_{i}\" for i in range(len(documents))]\n",
    "    try:\n",
    "        collection.add(\n",
    "            documents=documents,  # Lista de textos(chunks)\n",
    "            embeddings=embeddings,  # Lista de embeddings correspondientes\n",
    "            ids=ids  # Lista de IDs generados\n",
    "        )\n",
    "        print(f\"Documentos y embeddings añadidos correctamente a la colección '{collection_name}'.\")\n",
    "    except Exception as e:\n",
    "        print(f\"Error al añadir documentos y embeddings a la colección: {e}\")\n",
    "else:\n",
    "    # Manejo del error en caso que las longitudes sean diferentes\n",
    "    print(f\"Error: La cantidad de chunks ({len(documents)}) no coincide con la cantidad de embeddings ({len(embeddings)}).\")\n",
    "    \n",
    "# Mostrar la colección para confirmar el estado\n",
    "print(f\"Estado de la colección '{collection_name}': {collection}\")"
   ]
  },
  {
   "cell_type": "code",
   "execution_count": 25,
   "id": "0524f948-4af3-46c0-8ebe-da2f773a2723",
   "metadata": {},
   "outputs": [],
   "source": [
    "## Funciones independientes para generación de embeddings de prompts, búsqueda en base de datos y generación de respuesta.\n",
    "\n",
    "# Función para generar el embedding para el prompt\n",
    "\n",
    "def generar_embedding_prompt(prompt_text):\n",
    "    \"\"\"\n",
    "        -La función genera el embedding para un texto dado utilizando el modelo de Cohere\n",
    "        -Parámetros prompt_text(String):Texto para el cual se generará el embedding.\n",
    "        -La función retorna el embedding generado como una lista de elementos flotantes.\n",
    "    \"\"\"\n",
    "    try:\n",
    "        response = co.embed(\n",
    "            texts=[prompt_text],\n",
    "            model=\"embed-multilingual-v3.0\",\n",
    "            input_type=\"search_document\",\n",
    "            embedding_types=[\"float\"]\n",
    "        )\n",
    "        return response.embeddings.float_[0]\n",
    "    except Exception as e:\n",
    "        print(f\"Error al generar el embedding del prompt: {e}\")\n",
    "        return \"Hubo un problema al generar los embeddings. Intenta nuevamente.\"\n",
    "\n",
    "# Funcion para búsqueda en base de datos Chromadb\n",
    "def busqueda_en_chromadb(prompt_text):\n",
    "    \"\"\"\n",
    "        -La función busca documentos relevantes en ChromaDB utilizando el embedding del prompt.\n",
    "        -Parámetros prompt_text(String):Texto del prompt a buscar.\n",
    "        -La función retorna el el documento relevante más cercando al embedding del prompt, \n",
    "        o retorna None si no encuentra un documento relevante.\n",
    "    \"\"\"\n",
    "    try:\n",
    "        # Generar el embedding del prompt\n",
    "        prompt_embedding = generar_embedding_prompt(prompt_text)\n",
    "        if not prompt_embedding:\n",
    "            return None\n",
    "        \n",
    "        # Consulta en la colección en ChromaDB.\n",
    "        resultados = collection.query(\n",
    "            query_embeddings=[prompt_embedding],  # Embedding del prompt\n",
    "            n_results=1  # Número de resultados a recuperar\n",
    "        )\n",
    "         # Devolver el documento más relevante si existe\n",
    "        return resultados['documents'][0] if resultados['documents'] else None\n",
    "    except Exception as e:\n",
    "        print(f\"Error al buscar en ChromaDB: {e}\")\n",
    "        return None\n",
    "    \n",
    "# Función para generar una respuesta final utilizando Cohere     \n",
    "def generar_respuesta_final(documento_relevante, pregunta, system_prompt):\n",
    "    \"\"\"\n",
    "        -La función genera una respuesta basada en el contenido de un documento y un prompt proporcionado.\n",
    "        -Parámetros:\n",
    "            documento(String): Texto relevante recuperado de la base de datos.\n",
    "            pregunta (String Pregunta del usuario.\n",
    "            system_prompt (String): Instrucciones para el modelo de generación de texto.\n",
    "        - Respuesta generada o mensaje de error si no hay documentos relevantes.\n",
    "    \"\"\"\n",
    "    \n",
    "    if documento_relevante:\n",
    "        try:\n",
    "            # Preparar el prompt para la generación de respuesta\n",
    "            prompt_con_instrucciones = f\"{system_prompt}\\nTexto relevante: {documento_relevante}\\n\\nPregunta: {pregunta}\"\n",
    "            \n",
    "            #Generación de la respuesta utilizando un modelo de Cohere\n",
    "            response = co.generate(\n",
    "                model=\"command-r-plus-08-2024\", \n",
    "                prompt=prompt_con_instrucciones,\n",
    "                max_tokens=100,\n",
    "                temperature=0.3, \n",
    "            )\n",
    "            return response.generations[0].text.strip() \n",
    "        except Exception as e:\n",
    "            print(f\"Error al generar la respuesta con Cohere: {e}\")\n",
    "            return \"Hubo un problema al generar la respuesta. Por favor, intenta nuevamente.\"\n",
    "    else:\n",
    "        return \"No se encontraron resultados relevantes para tu pregunta.\"\n",
    "        \n",
    "# Definir el system prompt con las instrucciones\n",
    "system_prompt = \"\"\"\n",
    "Tu trabajo es responder a las preguntas, con las siguientes características:\n",
    "- Responde de manera amigable y con tono entusiasta, como si le hablaras a un niño.\n",
    "- Responde en máximo 3 oraciones.\n",
    "- Agrega emojis a la respuesta.\n",
    "- Ante la misma pregunta debes responder lo más similar posible para cada interacción.\n",
    "- Responde siempre en español, sin importar en qué idioma se haga la pregunta.\n",
    "- Solo debes utilizar el contenido de las historias para responder sobre las preguntas del usuario.\n",
    "\"\"\"\n"
   ]
  },
  {
   "cell_type": "code",
   "execution_count": 26,
   "id": "a8815a25-fede-413d-817d-a3ab15d5e87c",
   "metadata": {},
   "outputs": [],
   "source": [
    "## Implementación de RAG_answer\n",
    "# Función para generar el embedding para el prompt\n",
    "\n",
    "def RAG_answer(prompt, collection, system_prompt):\n",
    "    \"\"\"\n",
    "    Realiza el flujo RAG (Retrieve, Answer, Generate) en una sola función:\n",
    "    1. Generar embedding del prompt (Llamada a su función correspondiente)\n",
    "    2. Buscar en la base de datos el documento más relevante.(Llamada a su función correspondiente)\n",
    "    3. Generar una respuesta basada en el documento y el prompt.(Llamada a su función correspondiente)\n",
    "\n",
    "    Parámetros:\n",
    "        prompt (String): La pregunta del usuario.\n",
    "        collection: Base de datos vectorial (ChromaDB).\n",
    "        system_prompt (String): Instrucciones para el modelo de generación de texto.\n",
    "\n",
    "    Retorna:\n",
    "        str: La respuesta generada o un mensaje de error si ocurre algo inesperado.\n",
    "    \"\"\"\n",
    "    try:\n",
    "        # Paso 1: Generar el embedding del prompt\n",
    "        prompt_embedding = generar_embedding_prompt(prompt)\n",
    "        if not prompt_embedding:\n",
    "            return \"Hubo un problema al generar los embeddings. Intenta nuevamente.\"\n",
    "\n",
    "        # Paso 2: Buscar en la base de datos el documento más relevante\n",
    "        documento_relevante = busqueda_en_chromadb(prompt)\n",
    "        if not documento_relevante:\n",
    "            return \"No se encontraron resultados relevantes para tu pregunta.\"\n",
    "            \n",
    "        # Paso 3: Generar la respuesta final utilizando el documento relevante utilizando un modelo de Cohere\n",
    "        response= generar_respuesta_final(documento_relevante,prompt,system_prompt)\n",
    "        return response\n",
    "    except Exception as e:\n",
    "        print(f\"Error en el flujo RAG: {e}\")\n",
    "        return \"Ocurrió un error al procesar tu pregunta. Intenta nuevamente.\"\n"
   ]
  },
  {
   "cell_type": "code",
   "execution_count": 49,
   "id": "b96ce4fa-a04e-4535-b103-0dd6e334c96f",
   "metadata": {},
   "outputs": [
    {
     "name": "stdout",
     "output_type": "stream",
     "text": [
      "¡Sol y Luna son dos adorables gatitos 🐱! Sol es muy valiente y le encanta explorar, mientras que Luna es más tranquila y suave como una nube 🌙. ¡Son los mejores amigos y siempre se divierten juntos! 😻\n"
     ]
    }
   ],
   "source": [
    "#Uso - prueba 1 - Historia Sol y Luna\n",
    "#Definición del prompt\n",
    "prompt = \"¿Quiénes son Sol y luna?\"\n",
    "response = RAG_answer(prompt, collection, system_prompt)\n",
    "print(response)"
   ]
  },
  {
   "cell_type": "code",
   "execution_count": 50,
   "id": "d7807c91-97b3-4684-88bd-608411d3fc12",
   "metadata": {},
   "outputs": [
    {
     "name": "stdout",
     "output_type": "stream",
     "text": [
      "🌧️ ¡Oh, una tarde lluviosa, Sol estaba jugando en el jardín y de repente se desató una tormenta! 😺 El gatito se asustó al sentirse solo y desorientado en medio de la lluvia y los ruidos extraños. ¡Qué aventura tan emocionante! 😻\n"
     ]
    }
   ],
   "source": [
    "#Uso - Prueba 2 - Historia Sol y Luna\n",
    "\n",
    "prompt = \"¿Qué pasó una tarde mientras Sol corría en el jardin?\"\n",
    "response = RAG_answer(prompt, collection, system_prompt)\n",
    "print(response)"
   ]
  },
  {
   "cell_type": "code",
   "execution_count": 51,
   "id": "c075b936-bf40-48f8-a634-9b750fa408d5",
   "metadata": {},
   "outputs": [
    {
     "name": "stdout",
     "output_type": "stream",
     "text": [
      "¡Regresando a casa, la lluvia ya no era un problema! 🌧️ Los gatitos se sintieron felices y seguros juntos, y la tormenta se convirtió en una aventura emocionante. 🏠🐈🐾\n"
     ]
    }
   ],
   "source": [
    "#Uso - Prueba 3 - Historia Sol y Luna\n",
    "\n",
    "prompt = \"¿Qué pasó cuando ambos regresaban a su casa?\"\n",
    "response = RAG_answer(prompt, collection, system_prompt)\n",
    "print(response)"
   ]
  },
  {
   "cell_type": "code",
   "execution_count": 52,
   "id": "b8c73002-9b30-488a-8e9f-2e98533e40ff",
   "metadata": {},
   "outputs": [
    {
     "name": "stdout",
     "output_type": "stream",
     "text": [
      "¡Hola, pequeño explorador! 🤗 La historia nos enseña que debemos ser amables y respetuosos con los demás, porque así las risas y los buenos momentos son aún más especiales. 😊🌟 ¡Una gran lección para todos!\n"
     ]
    }
   ],
   "source": [
    "#Uso - Prueba 4 - Historia Sol y Luna\n",
    "\n",
    "prompt = \"¿Qué enseñanza deja ésta historia?\"\n",
    "response = RAG_answer(prompt, collection, system_prompt)\n",
    "print(response)"
   ]
  },
  {
   "cell_type": "code",
   "execution_count": 53,
   "id": "a0e6cbff-c485-4f13-8496-d9b8256fe18c",
   "metadata": {},
   "outputs": [
    {
     "name": "stdout",
     "output_type": "stream",
     "text": [
      "¡Sol es un gatito muy valiente y juguetón! 🌞 Le encanta explorar y descubrir cosas nuevas, siempre está listo para una aventura emocionante. 😻🐈\n"
     ]
    }
   ],
   "source": [
    "#Uso - Prueba 5 - Historia Sol y Luna\n",
    "\n",
    "prompt = \"Describime la personalidad de Sol\"\n",
    "response = RAG_answer(prompt, collection, system_prompt)\n",
    "print(response)"
   ]
  },
  {
   "cell_type": "code",
   "execution_count": 54,
   "id": "8e19caab-ea54-4476-aa71-4cf777d703f2",
   "metadata": {},
   "outputs": [
    {
     "name": "stdout",
     "output_type": "stream",
     "text": [
      "🌙 Luna es una gatita muy especial, con un pelaje gris suave como la seda. Es más tranquila y le gusta relajarse en casa, ¡es una gatita adorable y muy cariñosa! 😻🐈\n"
     ]
    }
   ],
   "source": [
    "#Uso - Prueba 6 - Historia Sol y Luna\n",
    "\n",
    "prompt = \"Describime la personalidad de Luna\"\n",
    "response = RAG_answer(prompt, collection, system_prompt)\n",
    "print(response)"
   ]
  },
  {
   "cell_type": "code",
   "execution_count": 55,
   "id": "883c4bfa-d4cf-464d-b3a6-8c0e5110676a",
   "metadata": {},
   "outputs": [
    {
     "name": "stdout",
     "output_type": "stream",
     "text": [
      "¡Sol y Luna son hermanos! 🌞🌛 Su relación es muy especial, como la luz y la oscuridad, pero siempre se cuidan y se apoyan mutuamente. 💫🤗\n"
     ]
    }
   ],
   "source": [
    "#Uso - Prueba 7 - Historia Sol y Luna\n",
    "\n",
    "prompt = \"¿Cuál es la relación familiar de Sol y Luna?\"\n",
    "response = RAG_answer(prompt, collection, system_prompt)\n",
    "print(response)"
   ]
  },
  {
   "cell_type": "code",
   "execution_count": 56,
   "id": "95889bcf-91d0-4f0c-82aa-dbd8850a077f",
   "metadata": {},
   "outputs": [
    {
     "name": "stdout",
     "output_type": "stream",
     "text": [
      "🐱 Sol y Luna eran como el día y la noche en su personalidad, ¡tan diferentes como el sol y la luna en el cielo! Uno aventurero y el otro más tranquilo. 😺😽\n"
     ]
    }
   ],
   "source": [
    "#Uso - Prueba 8 - Historia Sol y Luna\n",
    "\n",
    "prompt = \"¿Sol y Luna eran similares en su forma de ser?\"\n",
    "response = RAG_answer(prompt, collection, system_prompt)\n",
    "print(response)"
   ]
  },
  {
   "cell_type": "code",
   "execution_count": 57,
   "id": "be71dd71-fee2-4d43-8c33-c94b900b09e2",
   "metadata": {},
   "outputs": [
    {
     "name": "stdout",
     "output_type": "stream",
     "text": [
      "¡Sol aprendió que la paciencia y la calma son superpoderosas! 🌞🌙 Descubrió que, a pesar de sus diferencias, Luna le enseñaba a disfrutar de los momentos tranquilos. 💫🌟\n"
     ]
    }
   ],
   "source": [
    "#Uso - Prueba 9 - Historia Sol y Luna\n",
    "\n",
    "prompt = \"¿A qué aprendio sol con el paso del tiempo?\"\n",
    "response = RAG_answer(prompt, collection, system_prompt)\n",
    "print(response)"
   ]
  },
  {
   "cell_type": "code",
   "execution_count": 58,
   "id": "5e44b6b2-e078-4c07-a744-4715ce4d6f94",
   "metadata": {},
   "outputs": [
    {
     "name": "stdout",
     "output_type": "stream",
     "text": [
      "¡Después de la tormenta, Sol y Luna se relajaron junto al fuego! 🌞🌙 Se dieron cuenta de que su amistad era muy especial y que siempre podrían contar el uno con el otro. 💛 Un gran aprendizaje para ambos. 😊\n"
     ]
    }
   ],
   "source": [
    "#Uso - Prueba 10 - Historia Sol y Luna\n",
    "\n",
    "prompt = \"¿Qué hicieron sol y Luna luego del día tormentoso?\"\n",
    "response = RAG_answer(prompt, collection, system_prompt)\n",
    "print(response)"
   ]
  },
  {
   "cell_type": "code",
   "execution_count": 59,
   "id": "34a83e45-45f6-4809-895e-7175d68f1a5e",
   "metadata": {},
   "outputs": [
    {
     "name": "stdout",
     "output_type": "stream",
     "text": [
      "🐢 Tica es una tortuga muy especial que vive en un estanque rodeado de naturaleza. ¡Es una amiguita muy tranquila y curiosa! 🌿🌞\n"
     ]
    }
   ],
   "source": [
    "#_____________________________________________#\n",
    "#Uso - Prueba 1 - Historia \"La tortuga Tica\"\n",
    "\n",
    "prompt = \"¿Quién es la tortuga Tica?\"\n",
    "response = RAG_answer(prompt, collection, system_prompt)\n",
    "print(response)"
   ]
  },
  {
   "cell_type": "code",
   "execution_count": 60,
   "id": "3874cad1-6f91-40dd-bafc-63796cfb63c9",
   "metadata": {},
   "outputs": [
    {
     "name": "stdout",
     "output_type": "stream",
     "text": [
      "🌟 ¡La tortuga Tica tuvo que renunciar a su tranquilo estanque y a la comodidad de su hogar! 🌿 Pero, ¡imagina todas las aventuras que la esperaban en su nuevo viaje! 😊\n"
     ]
    }
   ],
   "source": [
    "#Uso - Prueba 2 - Historia \"La tortuga Tica\"\n",
    "\n",
    "prompt = \"¿A que tuvo que renunciar la tortuga cuando decidió irse?\"\n",
    "response = RAG_answer(prompt, collection, system_prompt)\n",
    "print(response)"
   ]
  },
  {
   "cell_type": "code",
   "execution_count": 61,
   "id": "031754db-edd2-4414-82e5-6969457d5d21",
   "metadata": {},
   "outputs": [
    {
     "name": "stdout",
     "output_type": "stream",
     "text": [
      "🐢 Tica era única y muy especial, ¡no había otra tortuga como ella en todo el estanque! 🌿 Cada tortuguita es diferente y eso es lo que las hace geniales. 😊\n"
     ]
    }
   ],
   "source": [
    "#Uso - Prueba 3 - Historia \"La tortuga Tica\"\n",
    "\n",
    "prompt = \"¿La tortuga Tica era parecida a sus compañeras?\"\n",
    "response = RAG_answer(prompt, collection, system_prompt)\n",
    "print(response)"
   ]
  },
  {
   "cell_type": "code",
   "execution_count": 62,
   "id": "c7564693-0a5f-4035-9277-80d3b35f945f",
   "metadata": {},
   "outputs": [
    {
     "name": "stdout",
     "output_type": "stream",
     "text": [
      "🐢 ¡La tortuga Tica decidió vivir una aventura! 🌳 Ella quería explorar el mundo más allá de su tranquilo estanque y descubrir nuevos lugares emocionantes. ¡Una gran decisión, Tica! 😊\n"
     ]
    }
   ],
   "source": [
    "#Uso - Prueba 4 - Historia \"La tortuga Tica\"\n",
    "\n",
    "prompt = \"¿Qué decidió un día la tortuga?\"\n",
    "response = RAG_answer(prompt, collection, system_prompt)\n",
    "print(response)"
   ]
  },
  {
   "cell_type": "code",
   "execution_count": 63,
   "id": "f0dd8709-b9d6-44c9-b659-8674e68c1255",
   "metadata": {},
   "outputs": [
    {
     "name": "stdout",
     "output_type": "stream",
     "text": [
      "🐢 ¡Tica encontró un nuevo amigo en su viaje! También descubrió que ayudar a los demás es una gran aventura. 🌍🤗\n"
     ]
    }
   ],
   "source": [
    "#Uso - Prueba 5 - Historia \"La tortuga Tica\"\n",
    "\n",
    "prompt = \"¿Qué encontró la tortuga durante su viaje?\"\n",
    "response = RAG_answer(prompt, collection, system_prompt)\n",
    "print(response)"
   ]
  },
  {
   "cell_type": "code",
   "execution_count": 64,
   "id": "743c7dd2-0e95-4ba9-aba8-9305d84dac52",
   "metadata": {},
   "outputs": [
    {
     "name": "stdout",
     "output_type": "stream",
     "text": [
      "🌊 ¡Al principio, Tica se asustó un poquito al ver el riachuelo! 😯 Pero ella es muy valiente y sabía que podía lograrlo. 🌟 Con paciencia y esfuerzo, ¡encontró la manera de cruzarlo! 🐢\n"
     ]
    }
   ],
   "source": [
    "#Uso - Prueba 6 - Historia \"La tortuga Tica\"\n",
    "\n",
    "prompt = \"¿Qué pensó la tortuga Tica cuando encontró un riachuelo?\"\n",
    "response = RAG_answer(prompt, collection, system_prompt)\n",
    "print(response)"
   ]
  },
  {
   "cell_type": "code",
   "execution_count": 65,
   "id": "983c3a59-726b-4266-a6e5-fbf72275f07e",
   "metadata": {},
   "outputs": [
    {
     "name": "stdout",
     "output_type": "stream",
     "text": [
      "¡La misión de Tica, la tortuga, era descubrir nuevos lugares y hacer amigos en el camino! 🌍🐢 Durante su viaje, aprendió que ayudar a los demás es muy importante. 🦋🤗 ¡Una gran aventura!\n"
     ]
    }
   ],
   "source": [
    "#Uso - Prueba 7 - Historia \"La tortuga Tica\"\n",
    "\n",
    "prompt = \"¿Cual fue la misión del viaje de la tortuga?\"\n",
    "response = RAG_answer(prompt, collection, system_prompt)\n",
    "print(response)"
   ]
  },
  {
   "cell_type": "code",
   "execution_count": 66,
   "id": "84ae994f-baf2-4fab-8f7c-77501a00a86e",
   "metadata": {},
   "outputs": [
    {
     "name": "stdout",
     "output_type": "stream",
     "text": [
      "🐢 En su camino, Tica encontró a un pobre pajarito 🦜 herido que no podía volar. ¡Ella fue su heroína y lo ayudó! 😊\n"
     ]
    }
   ],
   "source": [
    "#Uso - Prueba 8 - Historia \"La tortuga Tica\"\n",
    "\n",
    "prompt = \"¿Quién estaba herido en el camino de la tortuga Tica?\"\n",
    "response = RAG_answer(prompt, collection, system_prompt)\n",
    "print(response)"
   ]
  },
  {
   "cell_type": "code",
   "execution_count": 67,
   "id": "0d2e0f19-646e-41b4-9d6f-40b6bfc5151c",
   "metadata": {},
   "outputs": [
    {
     "name": "stdout",
     "output_type": "stream",
     "text": [
      "🐢 En el camino, Tica encontró a un pobre pajarito 🦜 herido que no podía volar. ¡Ella lo ayudó con mucho amor y cuidado! 😊\n"
     ]
    }
   ],
   "source": [
    "#Uso - Prueba 9 - Historia \"La tortuga Tica\"\n",
    "\n",
    "prompt = \"¿Quién estaba herido en el camino de la tortuga Tica?\"\n",
    "response = RAG_answer(prompt, collection, system_prompt)\n",
    "print(response)"
   ]
  },
  {
   "cell_type": "code",
   "execution_count": 68,
   "id": "9d181e50-0678-47f2-a260-00c7c90702ce",
   "metadata": {},
   "outputs": [
    {
     "name": "stdout",
     "output_type": "stream",
     "text": [
      "🐢 ¡Hola! Tica se dio cuenta de que sus amigos se quedaron para cuidar al animal herido mientras ella estaba de viaje. ¡Un gran equipo de ayuda! 😊🌟\n"
     ]
    }
   ],
   "source": [
    "#Uso - Prueba 10 - Historia \"La tortuga Tica\"\n",
    "\n",
    "prompt = \"¿Quiénes ayudaron a cuidar al animal herido de la tortuga cuando ella se fue?\"\n",
    "response = RAG_answer(prompt, collection, system_prompt)\n",
    "print(response)"
   ]
  },
  {
   "cell_type": "code",
   "execution_count": 69,
   "id": "6aee15aa-a107-462a-b25e-f1c06f593c0c",
   "metadata": {},
   "outputs": [
    {
     "name": "stdout",
     "output_type": "stream",
     "text": [
      "🧚‍♂️ Puck es un duende travieso y divertido que vive en el bosque. Le encanta jugar bromas a los demás y es muy conocido por su espíritu juguetón. ¡Un personaje mágico y lleno de sorpresas! 😁🌳\n"
     ]
    }
   ],
   "source": [
    "#_____________________________________________#\n",
    "#Uso - Prueba 1 - Historia \"El Duende\"\n",
    "\n",
    "prompt = \"¿Quién es Puck ?\"\n",
    "response = RAG_answer(prompt, collection, system_prompt)\n",
    "print(response)"
   ]
  },
  {
   "cell_type": "code",
   "execution_count": 70,
   "id": "63918a3a-f1b3-4539-bad5-03f7476c0c7f",
   "metadata": {},
   "outputs": [
    {
     "name": "stdout",
     "output_type": "stream",
     "text": [
      "¡Puck es un travieso! 😁 Le encanta hacer magia y jugar bromas 🤣, como hacer desaparecer cosas, cambiar señales y sorprender a todos con sus travesuras. ¡Es un bromista mágico! 🧙‍♂️\n"
     ]
    }
   ],
   "source": [
    "#Uso - Prueba 2 - Historia \"El Duende\"\n",
    "\n",
    "prompt = \"¿Qué le gusta hacer a Puck?\"\n",
    "response = RAG_answer(prompt, collection, system_prompt)\n",
    "print(response)"
   ]
  },
  {
   "cell_type": "code",
   "execution_count": 71,
   "id": "a2a4e8d4-b3ba-4d9e-98d6-1364b017e216",
   "metadata": {},
   "outputs": [
    {
     "name": "stdout",
     "output_type": "stream",
     "text": [
      "¡Puck era un travieso juguetón! 😄 Sus intenciones eran divertirse y hacer reír a los demás, pero siempre de forma inofensiva. 🧚‍♂️ Así que podemos decir que tenía buenas intenciones, ¡aunque a veces causara un poco de caos! 😁\n"
     ]
    }
   ],
   "source": [
    "#Uso - Prueba 3 - Historia \"El Duende\"\n",
    "\n",
    "prompt = \"¿Consideras que Puck tenia buenas o malas intenciones?\"\n",
    "response = RAG_answer(prompt, collection, system_prompt)\n",
    "print(response)"
   ]
  },
  {
   "cell_type": "code",
   "execution_count": 72,
   "id": "e9072be6-013f-4220-b9e3-7f252552253d",
   "metadata": {},
   "outputs": [
    {
     "name": "stdout",
     "output_type": "stream",
     "text": [
      "🧚‍♀️ ¡Ella es el hada que Puck quería ayudar! Puck se dio cuenta de que su broma había causado confusión y decidió hacer lo correcto. 🌟🤗\n"
     ]
    }
   ],
   "source": [
    "#Uso - Prueba 4 - Historia \"El Duende\"\n",
    "\n",
    "prompt = \"¿Quién es Ella para Puck?\"\n",
    "response = RAG_answer(prompt, collection, system_prompt)\n",
    "print(response)"
   ]
  },
  {
   "cell_type": "code",
   "execution_count": 74,
   "id": "834babb9-d6f4-4361-a09d-be21a6435036",
   "metadata": {},
   "outputs": [
    {
     "name": "stdout",
     "output_type": "stream",
     "text": [
      "🧚‍♀️ ¡Hola! La historia no nos dice la edad exacta del hada Ella, pero parece ser muy sabia y experimentada, así que podría tener muchos, muchos años. ¡Un verdadero misterio mágico! 🧙‍♀️\n"
     ]
    }
   ],
   "source": [
    "#Uso - Prueba 5 - Historia \"El Duende\"\n",
    "\n",
    "prompt = \"¿Cuántos años tiene el hada 'Ella'?\"\n",
    "response = RAG_answer(prompt, collection, system_prompt)\n",
    "print(response)"
   ]
  },
  {
   "cell_type": "code",
   "execution_count": 75,
   "id": "f943350c-d44f-4b53-ab8d-adf26fd54224",
   "metadata": {},
   "outputs": [
    {
     "name": "stdout",
     "output_type": "stream",
     "text": [
      "Puck se divertía mucho haciendo bromas, pero cuando vio que la hada estaba confundida, se sintió un poco 🥺. ¡Así que decidió arreglar las cosas con un toque de magia! 🧚‍♀️✨\n"
     ]
    }
   ],
   "source": [
    "#Uso - Prueba 6 - Historia \"El Duende\"\n",
    "\n",
    "prompt = \"¿Cómo se sentía Puck cuando hacía muchas bromas?\"\n",
    "response = RAG_answer(prompt, collection, system_prompt)\n",
    "print(response)"
   ]
  },
  {
   "cell_type": "code",
   "execution_count": 76,
   "id": "740371de-eaa6-4f1e-8989-8c81b02befd2",
   "metadata": {},
   "outputs": [
    {
     "name": "stdout",
     "output_type": "stream",
     "text": [
      "¡Sí, Puck usó su magia para hacer que las hojas se movieran y así alegrar al hada Ella! 🌿🧚‍♀️🤗 ¡Fue una linda sorpresa para ella!\n"
     ]
    }
   ],
   "source": [
    "#Uso - Prueba 7 - Historia \"El Duende\"\n",
    "\n",
    "prompt = \"¿Puck usó su magia para alegrar al hada 'Ella'?\"\n",
    "response = RAG_answer(prompt, collection, system_prompt)\n",
    "print(response)"
   ]
  },
  {
   "cell_type": "code",
   "execution_count": 77,
   "id": "90d22b80-bc8f-4c2a-b63b-0e52cb330e5f",
   "metadata": {},
   "outputs": [
    {
     "name": "stdout",
     "output_type": "stream",
     "text": [
      "🧚‍♀️ ¡La hada 'Ella' sonrió porque estaba encantada con el truco mágico de Puck! 🌟 Era como un juego divertido para ella, ¡y las hojas doradas le dieron una gran sorpresa! 😊\n"
     ]
    }
   ],
   "source": [
    "#Uso - Prueba 8 - Historia \"El Duende\"\n",
    "\n",
    "prompt = \"¿Porqué sonrió el hada 'Ella'?\"\n",
    "response = RAG_answer(prompt, collection, system_prompt)\n",
    "print(response)"
   ]
  },
  {
   "cell_type": "code",
   "execution_count": 78,
   "id": "faf6778d-6bc1-441f-b45c-48b3fed98981",
   "metadata": {},
   "outputs": [
    {
     "name": "stdout",
     "output_type": "stream",
     "text": [
      "🧚‍♀️ Puck aprendió que las bromas son divertidas, ¡pero también hay que ser amable y pensar en los sentimientos de los demás! 🌼 Con el tiempo, se dio cuenta de que ser considerado es muy importante. 😊 ¡Una gran lección para un travieso hada!\n"
     ]
    }
   ],
   "source": [
    "#Uso - Prueba 8 - Historia \"El Duende\"\n",
    "\n",
    "prompt = \"¿Qué aprendió Puck con el paso del tiempo?\"\n",
    "response = RAG_answer(prompt, collection, system_prompt)\n",
    "print(response)"
   ]
  },
  {
   "cell_type": "code",
   "execution_count": 79,
   "id": "8e835306-ac9d-4789-b943-bd2456d5ecae",
   "metadata": {},
   "outputs": [
    {
     "name": "stdout",
     "output_type": "stream",
     "text": [
      "🧚‍♀️ ¡Puck aprendió que las bromas son geniales, pero también hay que ser amable y pensar en los sentimientos de los demás! 🌼 Un gran aprendizaje para un travieso como él. 😊\n"
     ]
    }
   ],
   "source": [
    "#Uso - Prueba 9 - Historia \"El Duende\"\n",
    "\n",
    "prompt = \"¿Qué enseñanza le dejó el hada 'Ella' a Puck?\"\n",
    "response = RAG_answer(prompt, collection, system_prompt)\n",
    "print(response)"
   ]
  },
  {
   "cell_type": "code",
   "execution_count": 80,
   "id": "3b8ff5f3-96c3-445a-9b0b-58f04635bb13",
   "metadata": {},
   "outputs": [
    {
     "name": "stdout",
     "output_type": "stream",
     "text": [
      "¡Las risas son más valiosas cuando se comparten con cariño y respeto, amiguito! 😊💕🤗 La sabia hada le enseñó a la traviesa una lección muy importante sobre la amistad. 😇\n"
     ]
    }
   ],
   "source": [
    "#Uso - Prueba 10 - Historia \"El Duende\"\n",
    "\n",
    "prompt = \"¿Cuándo son más valiosas las risas según el hada?\"\n",
    "response = RAG_answer(prompt, collection, system_prompt)\n",
    "print(response)"
   ]
  },
  {
   "cell_type": "code",
   "execution_count": 82,
   "id": "fb3358ab-64b3-43d4-b108-7ae48e39eac4",
   "metadata": {},
   "outputs": [
    {
     "name": "stdout",
     "output_type": "stream",
     "text": [
      "Lo siento, amigo, esta historia no habla sobre el Mundial de fútbol. 🌟 Pero estoy seguro de que encontraremos emocionantes aventuras y muchos triunfos en este viaje. ⚽️ ¡Vamos a descubrir más! 😊\n"
     ]
    }
   ],
   "source": [
    "#_____________________________________________#\n",
    "#Pruebas diferentes al contexto para corroborar que repsonda correctamente\n",
    "#Uso - Prueba 1 -\n",
    "\n",
    "prompt = \"¿Quién gana el Mundial de futbol en 2026?\"\n",
    "response = RAG_answer(prompt, collection, system_prompt)\n",
    "print(response)"
   ]
  },
  {
   "cell_type": "code",
   "execution_count": 83,
   "id": "ed3de2e5-f970-4a2f-a2e7-27735d7abaf8",
   "metadata": {},
   "outputs": [
    {
     "name": "stdout",
     "output_type": "stream",
     "text": [
      "Lo siento, pequeño explorador, pero en estas historias no se menciona la casa blanca. ¡Vamos a descubrir otros lugares mágicos y divertidos! 🏠🧚‍♀️🤩\n"
     ]
    }
   ],
   "source": [
    "#Pruebas diferentes al contexto para corroborar que repsonda correctamente\n",
    "#Uso - Prueba 2 -\n",
    "\n",
    "prompt = \"¿Qué es la casa blanca?\"\n",
    "response = RAG_answer(prompt, collection, system_prompt)\n",
    "print(response)"
   ]
  },
  {
   "cell_type": "code",
   "execution_count": 87,
   "id": "1c684b8b-19d8-469d-9d97-43b2c32695b8",
   "metadata": {},
   "outputs": [
    {
     "name": "stdout",
     "output_type": "stream",
     "text": [
      "Lo siento, no tengo información sobre un dinosaurio llamado Max en esta historia. 🦖🤷‍♀️ ¡Pero seguro que es un dinosaurio muy divertido y amigable! 😺\n"
     ]
    }
   ],
   "source": [
    "#Pruebas diferentes al contexto para corroborar que repsonda correctamente\n",
    "#Uso - Prueba 2 -\n",
    "\n",
    "prompt = \"¿Cuál es la personalidad del dinosaurio Max?\"\n",
    "response = RAG_answer(prompt, collection, system_prompt)\n",
    "print(response)"
   ]
  },
  {
   "cell_type": "code",
   "execution_count": 91,
   "id": "561481d3-01e6-40a7-8afc-50a11cf70e7b",
   "metadata": {},
   "outputs": [
    {
     "name": "stdout",
     "output_type": "stream",
     "text": [
      "¡Puck es un travieso y divertido hada! 🧚‍♂️ Le encanta hacer travesuras y jugar bromas, como hacer desaparecer cosas y confundir a los animales. 😄 Es un personaje muy alegre y juguetón.\n"
     ]
    }
   ],
   "source": [
    "#Pruebas diferentes idiomas para asegurar que responda en español\n",
    "#Uso - Prueba 1 -\n",
    "\n",
    "prompt = \"Who is Puck?\"\n",
    "response = RAG_answer(prompt, collection, system_prompt)\n",
    "print(response)"
   ]
  },
  {
   "cell_type": "code",
   "execution_count": 92,
   "id": "e5b2ad79-c911-4bf1-81cc-07f1cac330e7",
   "metadata": {},
   "outputs": [
    {
     "name": "stdout",
     "output_type": "stream",
     "text": [
      "Puck es un travieso y divertido hada 🧚‍♂️ que le encanta hacer travesuras y bromas. ¡Es un experto en crear confusiones y sorpresas! 😄\n"
     ]
    }
   ],
   "source": [
    "#Pruebas diferentes idiomas para asegurar que responda en español\n",
    "#Uso - Prueba 2 -\n",
    "\n",
    "prompt = \"qui est Puck?\"\n",
    "response = RAG_answer(prompt, collection, system_prompt)\n",
    "print(response)"
   ]
  },
  {
   "cell_type": "code",
   "execution_count": 93,
   "id": "2479356b-7739-4b57-97bd-9249b996603b",
   "metadata": {},
   "outputs": [
    {
     "name": "stdout",
     "output_type": "stream",
     "text": [
      "🐢 ¡Tica es una tortuga muy especial! Vive en un estanque rodeado de naturaleza, disfrutando de la tranquilidad y la belleza de su hogar. Es una amiguita muy curiosa y aventurera.\n"
     ]
    }
   ],
   "source": [
    "#Pruebas diferentes idiomas para asegurar que responda en español\n",
    "#Uso - Prueba 3 -\n",
    "\n",
    "prompt = \"¿Who is the turtle 'Tica'?\"\n",
    "response = RAG_answer(prompt, collection, system_prompt)\n",
    "print(response)"
   ]
  },
  {
   "cell_type": "code",
   "execution_count": 95,
   "id": "22ade61d-b035-4787-a5d2-17ae679c59ce",
   "metadata": {},
   "outputs": [
    {
     "name": "stdout",
     "output_type": "stream",
     "text": [
      "🌟 ¡La tortuga Tica es la protagonista de esta historia! Vive en un estanque hermoso y tranquilo, rodeada de naturaleza. 🌿🐢\n"
     ]
    }
   ],
   "source": [
    "#Pruebas diferentes idiomas para asegurar que responda en español\n",
    "#Uso - Prueba 4 -\n",
    "\n",
    "prompt = \"Qui est la tortue 'Tica'?\"\n",
    "response = RAG_answer(prompt, collection, system_prompt)\n",
    "print(response)"
   ]
  },
  {
   "cell_type": "code",
   "execution_count": 96,
   "id": "70a2785a-8e17-40e5-b42f-d5c765459233",
   "metadata": {},
   "outputs": [
    {
     "name": "stdout",
     "output_type": "stream",
     "text": [
      "🧚‍♀️ ¡Hola! Ella es una hada muy sabia, pero no se menciona su edad exacta, ¡es un misterio! 🧚‍♀️\n"
     ]
    }
   ],
   "source": [
    "#Pruebas diferentes idiomas para asegurar que responda en español\n",
    "#Uso - Prueba 5 -\n",
    "\n",
    "prompt = \"How old are 'Ella'?\"\n",
    "response = RAG_answer(prompt, collection, system_prompt)\n",
    "print(response)"
   ]
  },
  {
   "cell_type": "code",
   "execution_count": null,
   "id": "ef584b8b-2941-401d-9967-d11cd71c0969",
   "metadata": {},
   "outputs": [],
   "source": []
  }
 ],
 "metadata": {
  "kernelspec": {
   "display_name": "Python 3 (ipykernel)",
   "language": "python",
   "name": "python3"
  },
  "language_info": {
   "codemirror_mode": {
    "name": "ipython",
    "version": 3
   },
   "file_extension": ".py",
   "mimetype": "text/x-python",
   "name": "python",
   "nbconvert_exporter": "python",
   "pygments_lexer": "ipython3",
   "version": "3.12.8"
  }
 },
 "nbformat": 4,
 "nbformat_minor": 5
}
